{
 "cells": [
  {
   "cell_type": "markdown",
   "id": "fab8a2d5-6883-45cb-ab2c-9f33c7d1ae99",
   "metadata": {},
   "source": [
    "# Hands-on tutorial: Using atom-based g3, dimensionalty reduction, and clustering\n",
    "\n",
    "- **Notebook: Dimensionality reduction and clustering**\n",
    "- Needs knowledge from the first Notebook\n",
    "\n",
    "<hr>\n",
    "\n",
    "- Material for the Erice [7th Workshop and School on Frontiers in Water Biophysics (FWB)](https://www.waterbiophysics.eu/Main/HomePage)\n",
    "- EuMINe Training School on Machine Learning in Hydrated Biosystems.\n",
    "- Sunday, July 6, 2025, Erice, Sicily, Italy.\n",
    "  - Lecture: 8:45-9:55\n",
    "  - Hands-on session: 14:45-15:45 (16:05)\n",
    "- Material by [Mikko Karttunen](https://www.softsimu.net/mikko/) and [Matt Davies](https://www.researchgate.net/profile/Matthew-Davies-48).\n",
    "- **NOTE:** This notebook is a somewhat experimental. The full procedure will be availabe on GitHub later this summer.\n",
    "<hr>"
   ]
  },
  {
   "cell_type": "markdown",
   "id": "bd75d14b-132a-4d1d-b6b7-562484424f59",
   "metadata": {},
   "source": [
    "## The approach\n",
    "\n",
    "The previous notebook introduced the $g_3$ correlation function in the context of traditional $g(r)$ pair distribution function, and established the relation between them. Here,\n",
    "we extend the use of $g_3$ to ML analysis of structural data. Instead of (trajectory) averaging, we analyze the $g_3$ for each chosen individual atom. That create a high-dimensional space that will be then subjected to dimensionality reduction. The data will be displayed using a similarity matrix, and clustered.\n",
    "\n",
    "![alt text](./pics/g3_sheets_water.svg)\n"
   ]
  },
  {
   "cell_type": "markdown",
   "id": "d0364341-1e54-421b-a337-ede3d62f44b4",
   "metadata": {},
   "source": [
    "## Clustering and friends"
   ]
  },
  {
   "cell_type": "markdown",
   "id": "e7b8f6e3-ea3e-4c23-8540-e993a582f9ac",
   "metadata": {},
   "source": [
    "**Step 1:** Load MDAnalysis and $g_3$ plus some dependencies.\n",
    "It is assumed that `g3.py` is in directory `./src`"
   ]
  },
  {
   "cell_type": "code",
   "execution_count": 2,
   "id": "1280ce91-c5d8-4d80-84d6-31d9e0d04e1a",
   "metadata": {},
   "outputs": [],
   "source": [
    "#-- import MDAnalysis & friends, and the functions\n",
    "\n",
    "import MDAnalysis as mda\n",
    "import sys\n",
    "sys.path.append(\"./src\")\n",
    "from g3 import MixedRadialAngularDistribution as G3\n",
    "from g3 import generate_similarity_matrix\n",
    "from sklearn.decomposition import PCA\n",
    "import matplotlib.pyplot as plt\n",
    "import numpy as np\n",
    "import os\n",
    "import sys"
   ]
  },
  {
   "cell_type": "markdown",
   "id": "9b460a12-e412-4633-b474-e53705196940",
   "metadata": {},
   "source": [
    "**Step 1.1 (optional):** Load a package to make prettier publication quality plots"
   ]
  },
  {
   "cell_type": "code",
   "execution_count": 3,
   "id": "56c12c4f-54b2-4525-889e-43b2e09dae5a",
   "metadata": {},
   "outputs": [],
   "source": [
    "#-- use seaborn for making the plots a prettier, has font etc definitions\n",
    "import prettyplot"
   ]
  },
  {
   "cell_type": "markdown",
   "id": "bba5adf8-bfdb-4835-90b3-a1ae1c39e8df",
   "metadata": {},
   "source": [
    "**Step 2:** Load the trajectory and topology"
   ]
  },
  {
   "cell_type": "code",
   "execution_count": 4,
   "id": "d4e25f4b-c279-4235-93af-72527d8a9e6e",
   "metadata": {},
   "outputs": [
    {
     "name": "stderr",
     "output_type": "stream",
     "text": [
      "/home/mkarttu/test_erice/lib/python3.12/site-packages/MDAnalysis/coordinates/XDR.py:253: UserWarning: Reload offsets from trajectory\n",
      " ctime or size or n_atoms did not match\n",
      "  warnings.warn(\n"
     ]
    }
   ],
   "source": [
    "#-- Read in the files:\n",
    "\n",
    "topology_file   = './data/spc-oplsaa-cubic-npt-run.gro'\n",
    "trajectory_file = './data/spc-oplsaa-cubic-npt-run.trr'\n",
    "u = mda.Universe(topology_file, trajectory_file)"
   ]
  },
  {
   "cell_type": "markdown",
   "id": "39593421-7b56-4e88-9ec5-54cc6798c765",
   "metadata": {},
   "source": [
    "**Step 3:** Print out trajectory & other information. If you are not familiar with MDAnalysis, see the following web sites and check the code line-by-line\n",
    "- [MDAnalysis User Guide](https://userguide.mdanalysis.org/stable/index.html)\n",
    "- [MDAnalysis Home](https://www.mdanalysis.org)"
   ]
  },
  {
   "cell_type": "code",
   "execution_count": 5,
   "id": "cdc04732-739e-49ac-b74d-9b217ecb134c",
   "metadata": {},
   "outputs": [
    {
     "name": "stdout",
     "output_type": "stream",
     "text": [
      "- \u001b[1mMDAnalysis version:\u001b[0m  2.9.0\n",
      "- \u001b[1mTrajectory file:\u001b[0m  ./data/spc-oplsaa-cubic-npt-run.trr\n",
      "- \u001b[1mTopology file:\u001b[0m  ./data/spc-oplsaa-cubic-npt-run.gro\n",
      "\n",
      "- \u001b[1mBox dimensions and angles (Å, deg):\u001b[0m  [40. 40. 40. 90. 90. 90.]\n",
      "- \u001b[1mDoes the trajectory data have velocities:\u001b[0m  Yes\n",
      "\n",
      "- \u001b[1mTotal number of atoms:\u001b[0m 6486\n",
      "\n",
      "- \u001b[1mMoleculNotebookar composition\u001b[0m\n",
      "  * SOL: 2162 molecules\n",
      "\n",
      "- \u001b[1mAtom names\u001b[0m (note the difference between names and types (next lines):\n",
      "  * HW1: 2162\n",
      "  * HW2: 2162\n",
      "  * OW: 2162\n",
      "\n",
      "- \u001b[1mAtom types:\u001b[0m\n",
      "  * H: 4324\n",
      "  * O: 2162\n",
      "\n",
      "- \u001b[1mFrames:\u001b[0m 41\n",
      "- \u001b[1mFrame step:\u001b[0m 0.500 ps (500.0 fs)\n",
      "- \u001b[1mTotal time:\u001b[0m 20.50 ps (0.021 ns)\n"
     ]
    }
   ],
   "source": [
    "#-- Print out trajectory & other relevant info including the version of MDAnalysis being used.\n",
    "#-- There is some reducancy here, but the aim is to be clear\n",
    "\n",
    "BOLD  = '\\033[1m'\n",
    "B_END = '\\033[0m'\n",
    "\n",
    "print(f\"- {BOLD}MDAnalysis version:{B_END}  {mda.__version__}\")\n",
    "\n",
    "print(f\"- {BOLD}Trajectory file:{B_END}  {trajectory_file}\")\n",
    "print(f\"- {BOLD}Topology file:{B_END}  {topology_file}\")\n",
    "\n",
    "box = u.dimensions\n",
    "print(f\"\\n- {BOLD}Box dimensions and angles (Å, deg):{B_END}  {box}\")\n",
    "#print(f\"\\n- Box dimensions (A, deg): {box}\")\n",
    "ts       = u.trajectory[0]\n",
    "dt       = u.trajectory.dt\n",
    "n_frames = len(u.trajectory)\n",
    "\n",
    "resnames, counts         = np.unique(u.residues.resnames, return_counts=True)\n",
    "atom_names, atom_counts  = np.unique(u.atoms.names, return_counts=True)\n",
    "atom_types, types_counts = np.unique(u.atoms.types, return_counts=True)\n",
    "\n",
    "print(f\"- {BOLD}Does the trajectory data have velocities:{B_END}  {'Yes' if hasattr(ts, 'velocities') else 'No'}\")\n",
    "print(f\"\\n- {BOLD}Total number of atoms:{B_END} {u.atoms.n_atoms}\")\n",
    "print(f\"\\n- {BOLD}MoleculNotebookar composition{B_END}\")\n",
    "for res, count in zip(resnames, counts):\n",
    "  print(f\"  * {res}: {count} molecules\")\n",
    "print(f\"\\n- {BOLD}Atom names{B_END} (note the difference between names and types (next lines):\")\n",
    "for name, count in zip(atom_names, atom_counts):\n",
    "  print(f\"  * {name}: {count}\")\n",
    "print(f\"\\n- {BOLD}Atom types:{B_END}\")\n",
    "for name, count in zip(atom_types, types_counts):\n",
    "  print(f\"  * {name}: {count}\") \n",
    "    \n",
    "print(f\"\\n- {BOLD}Frames:{B_END} {n_frames}\")\n",
    "print(f\"- {BOLD}Frame step:{B_END} {dt:.3f} ps ({dt*1000:.1f} fs)\")\n",
    "print(f\"- {BOLD}Total time:{B_END} {n_frames*dt:.2f} ps ({n_frames*dt/1000:.3f} ns)\")"
   ]
  },
  {
   "cell_type": "markdown",
   "id": "1304d792-dd83-4003-9247-e2f3fe9f505d",
   "metadata": {},
   "source": [
    "**Step 4:** This is where the analysis differs from the previous notebook. Unlike what we did in the first Notebook regarding $g_3$, now, we generate $g_3$ for *each atom* in the system.\n",
    "\n",
    "As before, we still must make the selections for the reference (or central), the neighbor, and then the group which we're interested in (target) plus the cutoff (`r_cut`) which is given in Ångströms. Unlike what we did in the first Notebook regarding $g_3$, now, we generate $g_3$ for *each atom* in the system. In other words, we generate *individual atom* $g_3$s. This can, naturally, be done with selections any of atoms which might represent molecules etc in a more complex system.  After computing individual atom $g_3$s, a similarity matrix of these distributions is generated. \n",
    "\n",
    "**Note:** Running the process below over all the 41 frames with 6486 atoms took about 173 seconds on a laptop with AMD Ryzen 7 5800 (8-Core)."
   ]
  },
  {
   "cell_type": "code",
   "execution_count": 6,
   "id": "7a1f499b-e1ab-47b2-afa3-c5fe6507e04c",
   "metadata": {},
   "outputs": [
    {
     "data": {
      "text/html": [
       "Processed: 2162 of 2162"
      ],
      "text/plain": [
       "<IPython.core.display.HTML object>"
      ]
     },
     "metadata": {},
     "output_type": "display_data"
    },
    {
     "name": "stdout",
     "output_type": "stream",
     "text": [
      "central_atom <AtomGroup [<Atom 6484: OW of type O of resname SOL, resid 2162 and segid SYSTEM>]>\n"
     ]
    }
   ],
   "source": [
    "#-- Make the atom selections and compute the g3. Computes g3 for each of the individual reference atoms.\n",
    "\n",
    "from IPython.display import display, HTML  # for percentage counter\n",
    "import time\n",
    "\n",
    "#tic = time.perf_counter() # uncomment this and the related lines below if you want to measure the execution time\n",
    "\n",
    "#-- Create a display area for progress update:\n",
    "\n",
    "progress_output = display(HTML(\"Initializing...\"), display_id=True)\n",
    "\n",
    "ref_atom    = 'type O' # below, we loop over all individual reference atoms\n",
    "neigh_atom  = 'type H' # this picks both HW1 and HW2\n",
    "target_atom = 'type O'\n",
    "r_cut       = 5          # radial cutoff in Angstroms\n",
    "\n",
    "reference   = u.select_atoms(ref_atom)\n",
    "neighbour   = u.select_atoms(neigh_atom)\n",
    "target      = u.select_atoms(target_atom)\n",
    "\n",
    "no_of_atoms = len(reference) \n",
    "\n",
    "ds = []\n",
    "i  = 0\n",
    "\n",
    "for atom in reference:\n",
    "    i = i+1\n",
    "    central_atom = mda.AtomGroup([atom])\n",
    "    g3 = G3(central_atom,                  # reference atom \n",
    "            target,                        # target\n",
    "            neighbour,                     # neighbor\n",
    "            r_cut,                         # cutoff in angstrom\n",
    "            (100, 50))                     # number of angular and radial bins\n",
    "\n",
    "    g3.run(start = 1,   # skip the first X frames, \n",
    "           stop  = 11,  # stop at frame Y \n",
    "           step  = 2)   # skipping every Z frames\n",
    "\n",
    "    dist = g3.distribution.T\n",
    "    ds.append(dist)                      # a numpy array of shape (Natoms, Nangular bins, Nradial bins)\n",
    "\n",
    "    progress_output.update(HTML(f\"Processed: {i} of {no_of_atoms}\"))\n",
    "    \n",
    "print('central_atom', central_atom)\n",
    "#toc = time.perf_counter()\n",
    "#print(f\"Execution time: {toc - tic:0.4f} seconds\")"
   ]
  },
  {
   "cell_type": "code",
   "execution_count": 7,
   "id": "b59f27cd-7823-4eeb-b61b-98728787390b",
   "metadata": {},
   "outputs": [],
   "source": [
    "ds   = np.array(ds)  # a numpy array of shape (Natoms, Nangular bins, Nradial bins)\n",
    "dist = ds\n",
    "vmax = np.percentile(dist[dist!=0], 90)"
   ]
  },
  {
   "cell_type": "markdown",
   "id": "e1aa8f14-baf0-4568-8cc5-7b6a5a9cf1e7",
   "metadata": {},
   "source": [
    "**Step 4.1:** Let's check the dimensions of the object distribution. If everything went correctly, there should be a $g_3$ with dimensions `radial bins` $\\times$ `angular bins` (note the transpose above) for each of the selections. This corresponds to the picture in the introduction of this notebook."
   ]
  },
  {
   "cell_type": "code",
   "execution_count": 8,
   "id": "10b6e6da-4d16-48a0-b2a1-f887630e163f",
   "metadata": {},
   "outputs": [
    {
     "name": "stdout",
     "output_type": "stream",
     "text": [
      "The distribution matrix is of type: <class 'numpy.ndarray'>\n",
      "Check the dimenesions: (2162, 50, 100)\n"
     ]
    }
   ],
   "source": [
    "print(\"The distribution matrix is of type:\",type(dist)) # check the type of the variable dist\n",
    "print(\"Check the dimenesions:\", dist.shape)\n",
    "#rows, columns = dist.shape\n",
    "#print(\"Rows:\", rows)\n",
    "#print(\"Columns:\", columns)"
   ]
  },
  {
   "cell_type": "code",
   "execution_count": 9,
   "id": "38ad5bf6-cae6-4c2c-8562-f1542a833d09",
   "metadata": {},
   "outputs": [
    {
     "data": {
      "text/plain": [
       "Text(0, 0.5, '$\\\\cos\\\\Theta$')"
      ]
     },
     "execution_count": 9,
     "metadata": {},
     "output_type": "execute_result"
    },
    {
     "data": {
      "image/png": "[encoded data removed]",
      "text/plain": [
       "<Figure size 500x350 with 1 Axes>"
      ]
     },
     "metadata": {},
     "output_type": "display_data"
    }
   ],
   "source": [
    "fig, ax = plt.subplots(nrows=1, ncols=1, figsize=(5,3.5), constrained_layout=True)\n",
    "ax.imshow(dist[0,:,:], extent=[0, r_cut, -1, 1], vmax=vmax, aspect='auto', interpolation='none')\n",
    "ax.set_xlabel('r /\\\\AA')\n",
    "ax.set_ylabel(r'$\\cos\\Theta$')\n",
    "#fig.savefig('distribution_single.png')\n",
    "#plt.close()\n"
   ]
  },
  {
   "cell_type": "code",
   "execution_count": null,
   "id": "43baf6fc-2cab-450e-be6d-130481976351",
   "metadata": {},
   "outputs": [],
   "source": [
    "#fig, axes = plt.subplots(nrows=1, ncols=2, figsize=(7,3.5), constrained_layout=True)"
   ]
  },
  {
   "cell_type": "markdown",
   "id": "2852eabf-d5e5-4296-b0de-81ea75cbd28c",
   "metadata": {},
   "source": [
    "**Step:** Generate and plot the similarity matrix.\n",
    "\n",
    "This can take some time\n",
    "\n",
    "**Note:** With `r_cut=5` and over all the frames, the process below took about 570 seconds on a laptop with AMD Ryzen 7 5800 (8-Core).You can chose less frames or/and shorter cutoff to make this process faster. \n",
    "\n",
    "**Note:** For simplicity, the process below uses PCA, not t-SNE like in the original article."
   ]
  },
  {
   "cell_type": "code",
   "execution_count": null,
   "id": "f158897b-ee3a-4dd6-94ec-7588c99918b0",
   "metadata": {},
   "outputs": [],
   "source": [
    "tic = time.perf_counter() # uncomment this and the related lines below if you want to measure the execution time\n",
    "\n",
    "mat = generate_similarity_matrix(ds)\n",
    "print(mat.min(), mat.mean())\n",
    "axes[0].imshow(mat)\n",
    "\n",
    "toc = time.perf_counter()\n",
    "print(f\"Execution time: {toc - tic:0.4f} seconds\")"
   ]
  },
  {
   "cell_type": "code",
   "execution_count": 29,
   "id": "3ff68287-602f-4c7f-877d-ab784e8a9603",
   "metadata": {},
   "outputs": [],
   "source": [
    "pca = PCA(2).fit_transform(mat)\n",
    "axes[1].scatter(pca[:,0], pca[:,1], s=1)\n",
    "axes[1].set_xlabel('PC-1')\n",
    "axes[1].set_ylabel('PC-2')\n",
    "fig.savefig('ssimmat.png')"
   ]
  },
  {
   "cell_type": "markdown",
   "id": "37d61a15-b43b-4560-9589-0f7a7577c3c6",
   "metadata": {},
   "source": [
    "## Tasks\n",
    "\n",
    "1. Compare the $g_3$ obtained above to the averaged $g_3$ from the previous notebook (for similar selections).\n",
    "2. The above process would need much more data. If you have a trajectory from your own simulations, try it out."
   ]
  },
  {
   "cell_type": "code",
   "execution_count": null,
   "id": "5d9dfccc-3591-48e2-a3a1-7d41cfabdb78",
   "metadata": {},
   "outputs": [],
   "source": []
  },
  {
   "cell_type": "code",
   "execution_count": null,
   "id": "e4157cf9-d19c-4ef7-ae99-fb98ac32d405",
   "metadata": {},
   "outputs": [],
   "source": []
  }
 ],
 "metadata": {
  "kernelspec": {
   "display_name": "Python 3 (ipykernel)",
   "language": "python",
   "name": "python3"
  },
  "language_info": {
   "codemirror_mode": {
    "name": "ipython",
    "version": 3
   },
   "file_extension": ".py",
   "mimetype": "text/x-python",
   "name": "python",
   "nbconvert_exporter": "python",
   "pygments_lexer": "ipython3",
   "version": "3.12.3"
  }
 },
 "nbformat": 4,
 "nbformat_minor": 5
}
