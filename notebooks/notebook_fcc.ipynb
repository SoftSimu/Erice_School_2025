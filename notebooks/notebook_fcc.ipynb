{
 "cells": [
  {
   "cell_type": "markdown",
   "id": "6c70a0ab-10a2-4c0a-97f8-619113355806",
   "metadata": {},
   "source": [
    "# Hands-on tutorial: The three-point correlation function $g_3$\n",
    "\n",
    "- **Notebook: Analysis of an fcc structure demonstrating the three-point correlation function $g_3$**\n",
    "\n",
    "<hr>\n",
    "\n",
    "- Material for the Erice [7th Workshop and School on Frontiers in Water Biophysics (FWB)](https://www.waterbiophysics.eu/Main/HomePage)\n",
    "- EuMINe Training School on Machine Learning in Hydrated Biosystems.\n",
    "- Sunday, July 6, 2025, Erice, Sicily, Italy.\n",
    "  - Lecture: 8:45-9:55\n",
    "  - Hands-on session: 14:45-15:45 (16:05)\n",
    "- Material by [Mikko Karttunen](https://www.softsimu.net/mikko/) and [Matt Davies](https://www.researchgate.net/profile/Matthew-Davies-48). If using the codes here, please cite the two articles below:\n",
    "  - The $g_3$ three-point correlation function was originally introduced in: Sukhomlinov, S. V.; Müser, M. H. A Mixed Radial, Angular, Three-Body Distribution Function as a Tool for Local Structure Characterization: Application to Single-Component Structures. [J. Chem. Phys. 2020, 152, 194502](https://doi.org/10.1063/5.0007964).\n",
    "  - It was further worked on, and integrated to an ML workflow in:  Davies, M.; Reyes-Figueroa, A. D.; Gurtovenko, A. A.; Frankel, D.; Karttunen, M. Elucidating Lipid Conformations in the Ripple Phase: Machine Learning Reveals Four Lipid Populations. [Biophys. J. 2023, 122, 442–450](https://doi.org/10.1016/j.bpj.2022.11.024).\n",
    "\n",
    "<hr>"
   ]
  },
  {
   "cell_type": "markdown",
   "id": "b9f8b49d-cc25-49cd-8e39-2ef41ba46b1d",
   "metadata": {},
   "source": [
    "## Workflow and approach in this hands-on\n",
    "\n",
    "To demonstrate the $g_3$ three-point correlation function, we first analyze simple systems of fcc (face-centered cubic) crystals of copper. We start with a lattice system to get a better feel of what $g_3$ does and how it relates to the usual $g(r)$.\n",
    "\n",
    "Some basic properties of Cu:\n",
    "- Crystal structure: face-centered cubic (fcc)\n",
    "- Lattice constant: $a \\approx 0.3615\\,\\mathrm{nm}$\n",
    "- Atoms per unit cell: 4\n",
    "- Coordination number: 12\n",
    "- Atomic packing factor: 0.740\n",
    "- Metals with fcc packing: Cu, Pb, Al\n",
    "\n",
    "The figure below (from Wikipedia, [copper](https://en.wikipedia.org/wiki/Copper)) shows an fcc structure and the lattice constant.\n",
    "\n",
    "![alt text](./pics/fcc_structure.svg)\n",
    "\n",
    "Since we have a single frame for this system, the analyzes are very quick - for a realistic size systems of >10's of thousands of atoms and, perhaps, millions of frames, the analyzes can easily take hours or even days. \n",
    "\n",
    "**Workflow:**\n",
    "```\n",
    "Load trajectory & topology\n",
    "  -> make atom 3 selections: reference (the central atom), neighour, and the rest (target)\n",
    "    -> run g3 over the trajectory (or selected frames; in this example a single frame) and average\n",
    "       -> plot the results\n",
    "```\n",
    "\n",
    "### Important: Before you start:\n",
    "\n",
    "1. It assumed that (based on the other set of notes), that you have cloned the github directory and successfully installed `MDAnalysis`.\n",
    "2. We will read in the topology and trajectory files, and demonstrate some of the capabilities of `MDAnalysis` by extracting and printing out trajectory and system information; it is a good habit to do so as it helps to track errors and double-check that the correct files and sytems are being analyzed.\n",
    "3. There are a set of tasks to perform as you go along\n",
    "\n",
    "**NOTE:** The below codes are not the prettiest and the most efficient ones, emphasis is on transparency of the process."
   ]
  },
  {
   "cell_type": "markdown",
   "id": "b303fbb8-5b85-4995-ae51-6a2215733761",
   "metadata": {},
   "source": [
    "## Analyze the trajectory using $g_3$"
   ]
  },
  {
   "cell_type": "markdown",
   "id": "032a2bb0-a6da-4447-882b-ab3a8d44da19",
   "metadata": {},
   "source": [
    "**Step 1:** Load MDAnalysis and $g_3$ plus some dependencies.\n"
   ]
  },
  {
   "cell_type": "code",
   "execution_count": 1,
   "id": "13119c41-1da1-4217-b5c8-ba2382a88136",
   "metadata": {},
   "outputs": [],
   "source": [
    "#-- import MDAnalysis & friends, and the functions\n",
    "\n",
    "import MDAnalysis as mda\n",
    "import sys\n",
    "sys.path.append(\"./src\")\n",
    "from g3 import MixedRadialAngularDistribution as G3\n",
    "import matplotlib.pyplot as plt\n",
    "import numpy as np\n",
    "\n",
    "import os\n",
    "import sys"
   ]
  },
  {
   "cell_type": "markdown",
   "id": "8de2f9ca-9f32-4215-9007-6cffb5398a12",
   "metadata": {},
   "source": [
    "**Step 1.1 (optional):** Load a package to make prettier publication quality plots"
   ]
  },
  {
   "cell_type": "code",
   "execution_count": 2,
   "id": "e6a8eacd-4544-4bf7-aa96-eae116f6157d",
   "metadata": {},
   "outputs": [],
   "source": [
    "#-- use seaborn for making the plots a prettier, has font etc definitions\n",
    "import prettyplot"
   ]
  },
  {
   "cell_type": "markdown",
   "id": "a83339d0-2f14-4211-ae60-ddc4d1392e2f",
   "metadata": {},
   "source": [
    "**Step 2:** Load the trajectory and topology"
   ]
  },
  {
   "cell_type": "code",
   "execution_count": 3,
   "id": "ce4aeca5-12c7-4a1d-8cf0-69ea8fe0d827",
   "metadata": {},
   "outputs": [],
   "source": [
    "#-- Read in the files:\n",
    "\n",
    "topology_file   = './data/fcc_copper_exact_20k_77K.gro'\n",
    "trajectory_file   = './data/fcc_copper_exact_20k_77K.gro'\n",
    "#topology_file   = './data/fcc_copper_exact_20k_300K.gro'\n",
    "#trajectory_file   = './data/fcc_copper_exact_20k_300K.gro'\n",
    "#topology_file   = './data/fcc_copper_exact_20k_10K.gro'\n",
    "#trajectory_file   = './data/fcc_copper_exact_20k_10K.gro'\n",
    "\n",
    "\n",
    "u = mda.Universe(topology_file, trajectory_file)\n",
    "#u = mda.Universe(topology_file,permissive=True)"
   ]
  },
  {
   "cell_type": "markdown",
   "id": "75223450-14e6-4c97-8bca-317108186102",
   "metadata": {},
   "source": [
    "**Step 3:** Print out trajectory & other information. If you are not familiar with MDAnalysis, see the following web sites and check the code line-by-line\n",
    "- [MDAnalysis User Guide](https://userguide.mdanalysis.org/stable/index.html)\n",
    "- [MDAnalysis Home](https://www.mdanalysis.org)"
   ]
  },
  {
   "cell_type": "code",
   "execution_count": 4,
   "id": "2bd061f4-5729-478c-b192-14cde990bd13",
   "metadata": {},
   "outputs": [
    {
     "name": "stdout",
     "output_type": "stream",
     "text": [
      "- \u001b[1mMDAnalysis version:\u001b[0m  2.9.0\n",
      "- \u001b[1mTrajectory file:\u001b[0m  ./data/fcc_copper_exact_20k_77K.gro\n",
      "- \u001b[1mTopology file:\u001b[0m  ./data/fcc_copper_exact_20k_77K.gro\n",
      "\n",
      "- \u001b[1mBox dimensions and angles (Å, deg):\u001b[0m  [80.86099 98.9017  44.7436  90.      90.      90.     ]\n",
      "- \u001b[1mDoes the trajectory data have velocities:\u001b[0m  No\n",
      "\n",
      "- \u001b[1mTotal number of atoms:\u001b[0m 20000\n",
      "\n",
      "- \u001b[1mMolecular composition\u001b[0m\n",
      "  * CU: 20 molecules\n",
      "\n",
      "- \u001b[1mAtom names\u001b[0m (note the difference between names and types (next lines):\n",
      "  * CU: 20000\n",
      "\n",
      "- \u001b[1mAtom types:\u001b[0m\n",
      "  * CU: 20000\n",
      "\n",
      "- \u001b[1mFrames:\u001b[0m 1\n",
      "- \u001b[1mFrame step:\u001b[0m 1.000 ps (1000.0 fs)\n",
      "- \u001b[1mTotal time:\u001b[0m 1.00 ps (0.001 ns)\n"
     ]
    },
    {
     "name": "stderr",
     "output_type": "stream",
     "text": [
      "/home/mkarttu/VENV/Erice_2025/lib/python3.12/site-packages/MDAnalysis/coordinates/base.py:728: UserWarning: Reader has no dt information, set to 1.0 ps\n",
      "  return self.ts.dt\n"
     ]
    }
   ],
   "source": [
    "#-- Print out trajectory & other relevant info including the version of MDAnalysis being used.\n",
    "#-- There is some reducancy here, but the aim is to be clear\n",
    "\n",
    "BOLD  = '\\033[1m'\n",
    "B_END = '\\033[0m'\n",
    "\n",
    "print(f\"- {BOLD}MDAnalysis version:{B_END}  {mda.__version__}\")\n",
    "\n",
    "print(f\"- {BOLD}Trajectory file:{B_END}  {trajectory_file}\")\n",
    "print(f\"- {BOLD}Topology file:{B_END}  {topology_file}\")\n",
    "\n",
    "box = u.dimensions\n",
    "print(f\"\\n- {BOLD}Box dimensions and angles (Å, deg):{B_END}  {box}\")\n",
    "#print(f\"\\n- Box dimensions (A, deg): {box}\")\n",
    "ts       = u.trajectory[0]\n",
    "dt       = u.trajectory.dt\n",
    "n_frames = len(u.trajectory)\n",
    "\n",
    "resnames, counts         = np.unique(u.residues.resnames, return_counts=True)\n",
    "atom_names, atom_counts  = np.unique(u.atoms.names, return_counts=True)\n",
    "atom_types, types_counts = np.unique(u.atoms.types, return_counts=True)\n",
    "\n",
    "print(f\"- {BOLD}Does the trajectory data have velocities:{B_END}  {'Yes' if hasattr(ts, 'velocities') else 'No'}\")\n",
    "print(f\"\\n- {BOLD}Total number of atoms:{B_END} {u.atoms.n_atoms}\")\n",
    "print(f\"\\n- {BOLD}Molecular composition{B_END}\")\n",
    "for res, count in zip(resnames, counts):\n",
    "  print(f\"  * {res}: {count} molecules\")\n",
    "print(f\"\\n- {BOLD}Atom names{B_END} (note the difference between names and types (next lines):\")\n",
    "for name, count in zip(atom_names, atom_counts):\n",
    "  print(f\"  * {name}: {count}\")\n",
    "print(f\"\\n- {BOLD}Atom types:{B_END}\")\n",
    "for name, count in zip(atom_types, types_counts):\n",
    "  print(f\"  * {name}: {count}\") \n",
    "    \n",
    "print(f\"\\n- {BOLD}Frames:{B_END} {n_frames}\")\n",
    "print(f\"- {BOLD}Frame step:{B_END} {dt:.3f} ps ({dt*1000:.1f} fs)\")\n",
    "print(f\"- {BOLD}Total time:{B_END} {n_frames*dt:.2f} ps ({n_frames*dt/1000:.3f} ns)\")"
   ]
  },
  {
   "cell_type": "markdown",
   "id": "dbe03e3e-bee5-4a8b-bff0-b81fe990dac7",
   "metadata": {},
   "source": [
    "**Step 4.** Now that we know the atom *types* and *names*, let's make selections and compute the $g_3$. Here, we must make the selections for the reference (`atomgroup_central`), the neighbor (`atomgroup_neighbour `), and then the group which we're interested in (`atomgroup_other`). It is also possible to give the cutoff (`radial_cutoff`) which is given in Ångström.\n",
    "\n",
    "**Note:** Running the process below over all the 41 frames with 6486 atoms took about 40 seconds on a laptop with AMD Ryzen 7 5800 (8-Core)."
   ]
  },
  {
   "cell_type": "code",
   "execution_count": 5,
   "id": "44fa1963-a24d-49f3-a957-05c21f07c3fe",
   "metadata": {},
   "outputs": [
    {
     "name": "stderr",
     "output_type": "stream",
     "text": [
      "/home/mkarttu/VENV/Erice_2025/lib/python3.12/site-packages/MDAnalysis/analysis/base.py:542: UserWarning: Reader has no dt information, set to 1.0 ps\n",
      "  self.times[idx] = ts.time\n"
     ]
    }
   ],
   "source": [
    "#-- Make the atom selections and compute the g3\n",
    "\n",
    "#import time\n",
    "#tic = time.perf_counter() # uncomment this and the related lines below if you want to measure the execution time\n",
    "\n",
    "#-- Create a display area for progress update:\n",
    "\n",
    "ref_atom    = 'type CU' \n",
    "neigh_atom  = 'type CU'\n",
    "target_atom = 'type CU'\n",
    "\n",
    "reference   = u.select_atoms(ref_atom)\n",
    "neighbour   = u.select_atoms(neigh_atom)\n",
    "target      = u.select_atoms(target_atom)\n",
    "\n",
    "atomgroup_central   = reference   # selections:\n",
    "atomgroup_neighbour = neighbour\n",
    "atomgroup_other     = target\n",
    "r_cut               = 6          # radial cutoff in Angstroms\n",
    "\n",
    "g3 = G3(atomgroup_central   = atomgroup_central, \n",
    "        atomgroup_other     = atomgroup_other, \n",
    "        atomgroup_neighbour = atomgroup_neighbour, \n",
    "        radial_cutoff       = r_cut)\n",
    "\n",
    "#g3.run()           # take every frame with the default values\n",
    "\n",
    "#tic = time.perf_counter()\n",
    "\n",
    "g3.run(start = 0,      # skip the first X frames, \n",
    "       stop  = 1,     # stop at frame Y \n",
    "       step  = 1)      # skipping every Z frames\n",
    "\n",
    "#toc = time.perf_counter()\n",
    "#print(f\"Execution time: {toc - tic:0.4f} seconds\")\n",
    "\n",
    "dist = g3.distribution.T\n",
    "vmax = np.percentile(dist[dist!=0], 90)"
   ]
  },
  {
   "cell_type": "markdown",
   "id": "21412cd7-63e6-41b9-b1a7-f18db10580e4",
   "metadata": {},
   "source": [
    "**Step 4.1 (optional):** Check some basics of the distribution matrix."
   ]
  },
  {
   "cell_type": "code",
   "execution_count": 6,
   "id": "b22ac4af-e955-4d5e-809c-34a29b454bf9",
   "metadata": {},
   "outputs": [
    {
     "name": "stdout",
     "output_type": "stream",
     "text": [
      "The distribution matrix is of type: <class 'numpy.ndarray'>\n",
      "Rows: 101\n",
      "Columns: 201\n"
     ]
    }
   ],
   "source": [
    "print(\"The distribution matrix is of type:\",type(dist)) # check the type of the variable dist\n",
    "rows, columns = dist.shape\n",
    "print(\"Rows:\", rows)\n",
    "print(\"Columns:\", columns)\n",
    "#print(np.max(dist))\n",
    "#print(np.min(dist))\n",
    "#print(vmax)"
   ]
  },
  {
   "cell_type": "markdown",
   "id": "6212e7dd-259d-4dcd-8f55-9c391a04b5cf",
   "metadata": {},
   "source": [
    "**Step 5:** Let's plot the three-point correlation function $g_3$. Tune the colormap etc. as needed.\n",
    "- Note: the gymnastics when printing the title is to keep only the information regarding the chosen atoms"
   ]
  },
  {
   "cell_type": "code",
   "execution_count": 7,
   "id": "08a80c6c-9c67-4e45-8fb7-2ff98de68a1c",
   "metadata": {},
   "outputs": [
    {
     "data": {
      "text/plain": [
       "<matplotlib.colorbar.Colorbar at 0x7f15d1caad80>"
      ]
     },
     "execution_count": 7,
     "metadata": {},
     "output_type": "execute_result"
    },
    {
     "data": {
      "image/png": "[encoded data removed]",
      "text/plain": [
       "<Figure size 500x350 with 2 Axes>"
      ]
     },
     "metadata": {},
     "output_type": "display_data"
    }
   ],
   "source": [
    "fig, ax = plt.subplots(nrows=1, ncols=1, figsize=(5,3.5), constrained_layout=True)\n",
    "map = ax.imshow(g3.distribution.T, \n",
    "                extent = [0, r_cut, -1, 1], # Note: we're giving the distribution matrix so we need to provide the scales.\n",
    "                vmax   = vmax, \n",
    "                aspect = 'auto',\n",
    "                cmap   = 'jet')     # choose your favourite colourmap\n",
    "ax.set_title(f\"Reference: {ref_atom.split(' ', 1)[1]}, Neighbour: {neigh_atom.split(' ', 1)[1]}, Target: {target_atom.split(' ', 1)[1]}\")\n",
    "ax.set_xlabel('r /\\\\AA')\n",
    "ax.set_ylabel(r'$\\cos \\Theta$')\n",
    "fig.colorbar(map,\n",
    "             ticks = None,\n",
    "             label = \"$g_3$\")"
   ]
  },
  {
   "cell_type": "markdown",
   "id": "bcad9bba-4575-4f95-a03c-dced8f01ee10",
   "metadata": {},
   "source": [
    "**Step 5.1 (optional):** Save the plots\n",
    "- Save as png, pdf and/or svg\n",
    "- Checks if any of the files exists"
   ]
  },
  {
   "cell_type": "code",
   "execution_count": 8,
   "id": "5e6dcbbc-36e3-44fe-9bd1-ae14b8cb42eb",
   "metadata": {},
   "outputs": [],
   "source": [
    "#-- Save? Change the names as needed and choose the format. Check if the file exists (any with the same base name).\n",
    "\n",
    "savename   = f'g3_ref_{ref_atom.split(' ', 1)[1]}_neigh_{neigh_atom.split(' ', 1)[1]}_target_{target_atom.split(' ', 1)[1]}'\n",
    "extensions = [\".png\", \".svg\", \".pdf\"]\n",
    "\n",
    "#current_directory = os.getcwd()\n",
    "#print(f\"The current directory is: {current_directory}\")\n",
    "\n",
    "for ext in extensions:\n",
    "    full_filename = f\"{savename}{ext}\"\n",
    "    found_existing_file = False\n",
    "    if os.path.exists(full_filename):\n",
    "        found_existing_file = True\n",
    "#        print(full_filename)\n",
    "        existing_file_path = full_filename\n",
    "        break \n",
    "\n",
    "if found_existing_file:\n",
    "    print(f\"\\nError: The file \\\"{existing_file_path}\\\" already exists. Stopping execution.\")\n",
    "    sys.exit(1) \n",
    "\n",
    "#fig.savefig(savename+'.pdf',dpi=300)\n",
    "fig.savefig(savename+'.png',dpi=300)\n",
    "#fig.savefig(savename+'.svg')"
   ]
  },
  {
   "cell_type": "markdown",
   "id": "35c8ef61-4f93-4e46-8303-bcdbc74801f9",
   "metadata": {},
   "source": [
    "## Tasks: \n",
    "\n",
    "Now that we know how to compute $g_3$, let's examine it further. Note that the above can be used to compute $g_3$ as a trajectory average or for a single frame by tuning the parameters.\n",
    "\n",
    "1. Examine the $g_3$ plot above. Compare the distances and the angles of the nearest neighbors to the fcc structure of copper. Do they match? How to the 2nd and 3rd nearest neighbors? Check that:\n",
    "  - Nearest neighbors: $a\\frac{\\sqrt{2}}{2}$\n",
    "  - 2nd nn: $a$\n",
    "  - 3rd nn: $a \\frac{3}{2}$\n",
    "  - 4th nn: $a \\sqrt{2}$ \n",
    "2. Compute the traditional $g(r)$ for the same system and plot it. For that you need to import `rdf` from `MDAnalysis.analysis` and use `interRDF`. Again, check how well the peak positions correspond to the fcc structure of copper. \n",
    "3. Integrate over the angle in $g_3$ and plot the result as a function of distance ($r$). Compare the results to the direct calculation of $g(r)$ for the same selections by plotting together with the result from the previous problem. What are your conclusions? Explain the differences."
   ]
  }
 ],
 "metadata": {
  "kernelspec": {
   "display_name": "Python 3 (ipykernel)",
   "language": "python",
   "name": "python3"
  },
  "language_info": {
   "codemirror_mode": {
    "name": "ipython",
    "version": 3
   },
   "file_extension": ".py",
   "mimetype": "text/x-python",
   "name": "python",
   "nbconvert_exporter": "python",
   "pygments_lexer": "ipython3",
   "version": "3.12.3"
  }
 },
 "nbformat": 4,
 "nbformat_minor": 5
}
